{
  "nbformat": 4,
  "nbformat_minor": 0,
  "metadata": {
    "colab": {
      "provenance": [],
      "authorship_tag": "ABX9TyMaErbNs0b0ttNdJ8Xk5fCt",
      "include_colab_link": true
    },
    "kernelspec": {
      "name": "python3",
      "display_name": "Python 3"
    },
    "language_info": {
      "name": "python"
    }
  },
  "cells": [
    {
      "cell_type": "markdown",
      "metadata": {
        "id": "view-in-github",
        "colab_type": "text"
      },
      "source": [
        "<a href=\"https://colab.research.google.com/github/iacono9578/devopsUninter/blob/main/Untitled15.ipynb\" target=\"_parent\"><img src=\"https://colab.research.google.com/assets/colab-badge.svg\" alt=\"Open In Colab\"/></a>"
      ]
    },
    {
      "cell_type": "code",
      "source": [],
      "metadata": {
        "id": "0X4h9F7eqFy_"
      },
      "execution_count": null,
      "outputs": []
    },
    {
      "cell_type": "code",
      "execution_count": 7,
      "metadata": {
        "colab": {
          "base_uri": "https://localhost:8080/"
        },
        "id": "mJnQKD8pptIi",
        "outputId": "3c015717-ea50-4c06-c4ab-7335fee69bdf"
      },
      "outputs": [
        {
          "output_type": "stream",
          "name": "stdout",
          "text": [
            "1+1\n",
            "2+4\n",
            "1+1\n",
            "2+4\n",
            "5+9\n",
            "6+11\n",
            "12-7\n",
            "12-7\n",
            "**12\n",
            "/155\n"
          ]
        }
      ],
      "source": [
        "print('1+1')\n",
        "print('2+4')\n",
        "print('1+1')\n",
        "print('2+4')\n",
        "print('5+9')\n",
        "print('6+11')\n",
        "def def_ (a):\n",
        "    print(a)\n",
        "def_('12-7')\n",
        "def_('12-7')\n",
        "print('**12')\n",
        "print('/155')"
      ]
    }
  ]
}