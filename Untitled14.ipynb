{
  "nbformat": 4,
  "nbformat_minor": 0,
  "metadata": {
    "colab": {
      "provenance": [],
      "authorship_tag": "ABX9TyN4zWbPLCK8t1l8pIFnQtai",
      "include_colab_link": true
    },
    "kernelspec": {
      "name": "python3",
      "display_name": "Python 3"
    },
    "language_info": {
      "name": "python"
    }
  },
  "cells": [
    {
      "cell_type": "markdown",
      "metadata": {
        "id": "view-in-github",
        "colab_type": "text"
      },
      "source": [
        "<a href=\"https://colab.research.google.com/github/iacono9578/devopsUninter/blob/main/Untitled14.ipynb\" target=\"_parent\"><img src=\"https://colab.research.google.com/assets/colab-badge.svg\" alt=\"Open In Colab\"/></a>"
      ]
    },
    {
      "cell_type": "code",
      "execution_count": null,
      "metadata": {
        "colab": {
          "base_uri": "https://localhost:8080/",
          "height": 106
        },
        "id": "KDvne76BDfaa",
        "outputId": "9b271dbc-6b41-4a97-b143-49ae9412bcc7"
      },
      "outputs": [
        {
          "output_type": "error",
          "ename": "SyntaxError",
          "evalue": "invalid syntax (<ipython-input-1-701a74d735d5>, line 1)",
          "traceback": [
            "\u001b[0;36m  File \u001b[0;32m\"<ipython-input-1-701a74d735d5>\"\u001b[0;36m, line \u001b[0;32m1\u001b[0m\n\u001b[0;31m    <!DOCTYPE html>\u001b[0m\n\u001b[0m    ^\u001b[0m\n\u001b[0;31mSyntaxError\u001b[0m\u001b[0;31m:\u001b[0m invalid syntax\n"
          ]
        }
      ],
      "source": [
        "<!DOCTYPE html>\n",
        "<html lang=\"pt-br\">\n",
        "<head>\n",
        "    <meta charset=\"UTF-8\">\n",
        "    <meta name=\"viewport\" content=\"width=device-width, initial-scale=1.0\">\n",
        "    <title>Vendas de Carros</title>\n",
        "    <link rel=\"stylesheet\" href=\"styles.css\">\n",
        "</head>\n",
        "<body>\n",
        "    <!-- Cabeçalho -->\n",
        "    <header>\n",
        "        <div class=\"logo\">\n",
        "            <h1>Vendas de Carros</h1>\n",
        "        </div>\n",
        "        <nav>\n",
        "            <ul>\n",
        "                <li><a href=\"#\">Home</a></li>\n",
        "                <li><a href=\"#\">Carros</a></li>\n",
        "                <li><a href=\"#\">Contato</a></li>\n",
        "            </ul>\n",
        "        </nav>\n",
        "    </header>\n",
        "\n",
        "    <!-- Lista de Carros -->\n",
        "    <section class=\"car-list\">\n",
        "        <h2>Carros à Venda</h2>\n",
        "\n",
        "        <div class=\"car\">\n",
        "            <img src=\"./64642_1.jpg\" alt=\"Carro 1\">\n",
        "            <div class=\"car-info\">\n",
        "                <h3>Carro Modelo A</h3>\n",
        "                <p>R$ 50.000,00</p>\n",
        "                <p>Ano: 2020 | 30.000 km | Gasolina</p>\n",
        "            </div>\n",
        "        </div>\n",
        "\n",
        "        <div class=\"car\">\n",
        "            <img src=\"./fl_progressive,f_webp,q_70,w_800.webp\" alt=\"Carro 2\">\n",
        "            <div class=\"car-info\">\n",
        "                <h3>Carro Modelo B</h3>\n",
        "                <p>R$ 35.000,00</p>\n",
        "                <p>Ano: 2018 | 50.000 km | Álcool</p>\n",
        "            </div>\n",
        "        </div>\n",
        "\n",
        "        <div class=\"car\">\n",
        "            <img src=\"./chevrolet_sonic_sedan_7-scaled.jpeg\" alt=\"Carro 3\">\n",
        "            <div class=\"car-info\">\n",
        "                <h3>Carro Modelo C</h3>\n",
        "                <p>R$ 25.000,00</p>\n",
        "                <p>Ano: 2015 | 70.000 km | Diesel</p>\n",
        "            </div>\n",
        "        </div>\n",
        "    </section>\n",
        "\n",
        "    <!-- Formulário de Contato -->\n",
        "    <section class=\"contact\">\n",
        "        <h2>Entre em Contato</h2>\n",
        "        <form>\n",
        "            <label for=\"name\">Nome:</label>\n",
        "            <input type=\"text\" id=\"name\" name=\"name\" required>\n",
        "\n",
        "            <label for=\"email\">E-mail:</label>\n",
        "            <input type=\"email\" id=\"email\" name=\"email\" required>\n",
        "\n",
        "            <label for=\"message\">Mensagem:</label>\n",
        "            <textarea id=\"message\" name=\"message\" required></textarea>\n",
        "\n",
        "            <button type=\"submit\">Enviar</button>\n",
        "        </form>\n",
        "    </section>\n",
        "\n",
        "    <!-- Rodapé -->\n",
        "    <footer>\n",
        "        <p>&copy; 2025 Vendas de Carros | Todos os direitos reservados.</p>\n",
        "        <p>Redes sociais: Facebook | Instagram | Twitter</p>\n",
        "    </footer>\n",
        "</body>\n",
        "</html>\n"
      ]
    }
  ]
}