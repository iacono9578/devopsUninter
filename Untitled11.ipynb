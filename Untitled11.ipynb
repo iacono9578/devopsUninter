{
  "nbformat": 4,
  "nbformat_minor": 0,
  "metadata": {
    "colab": {
      "provenance": [],
      "toc_visible": true,
      "authorship_tag": "ABX9TyMF9pw+kUhWFslBLOgFOJh+",
      "include_colab_link": true
    },
    "kernelspec": {
      "name": "python3",
      "display_name": "Python 3"
    },
    "language_info": {
      "name": "python"
    }
  },
  "cells": [
    {
      "cell_type": "markdown",
      "metadata": {
        "id": "view-in-github",
        "colab_type": "text"
      },
      "source": [
        "<a href=\"https://colab.research.google.com/github/iacono9578/devopsUninter/blob/main/Untitled11.ipynb\" target=\"_parent\"><img src=\"https://colab.research.google.com/assets/colab-badge.svg\" alt=\"Open In Colab\"/></a>"
      ]
    },
    {
      "cell_type": "code",
      "source": [],
      "metadata": {
        "id": "d5E2mSa5PdNT"
      },
      "execution_count": 4,
      "outputs": []
    },
    {
      "cell_type": "code",
      "source": [
        "1\n",
        "print('!','-'* 10,'!')\n",
        "2\n",
        "1\n",
        "print('!','-'* 10,'!')\n",
        "2\n",
        "print('!','-'* 10,'!')\n",
        "3\n",
        "print('        menu')\n",
        "4\n",
        "print('!','-'* 10,'!')\n",
        "5\n",
        "print('!','-'* 10,'!')\n",
        "5\n",
        "print('!','-'* 10,'!')"
      ],
      "metadata": {
        "colab": {
          "base_uri": "https://localhost:8080/"
        },
        "id": "hQDfnPVSYL_h",
        "outputId": "afcecf8f-1540-4eee-9c50-8c13fde5e625"
      },
      "execution_count": 16,
      "outputs": [
        {
          "output_type": "stream",
          "name": "stdout",
          "text": [
            "! ---------- !\n",
            "! ---------- !\n",
            "! ---------- !\n",
            "        menu\n",
            "! ---------- !\n",
            "! ---------- !\n",
            "! ---------- !\n"
          ]
        }
      ]
    },
    {
      "cell_type": "code",
      "source": [
        "def realce ():\n",
        "  #corpo da funçao\n",
        "  print('!','-'* 10,'!')\n",
        "  print('!','-'* 10,'!')\n",
        ""
      ],
      "metadata": {
        "id": "SMCi-riHY2XE"
      },
      "execution_count": null,
      "outputs": []
    },
    {
      "cell_type": "code",
      "source": [
        "def realce(s1):\n",
        "  print('!','-'* 10,'!')\n",
        "  print('!','-'* 10,'!')\n",
        "  print('!','-'* 10,'!')\n",
        "\n",
        "  print(s1)"
      ],
      "metadata": {
        "id": "PgQ_VNPXeUcn"
      },
      "execution_count": null,
      "outputs": []
    },
    {
      "cell_type": "code",
      "source": [
        " #programa principal\n",
        "def realce():\n",
        "    pass # Add a placeholder for the realce function\n",
        "\n",
        "realce()\n",
        "print ('       roberto')\n",
        "realce()\n",
        "\n",
        ""
      ],
      "metadata": {
        "colab": {
          "base_uri": "https://localhost:8080/"
        },
        "id": "OIZQDYoAbYba",
        "outputId": "01a88a04-9562-4939-9450-91d520d0abdb"
      },
      "execution_count": 18,
      "outputs": [
        {
          "output_type": "stream",
          "name": "stdout",
          "text": [
            "       roberto\n"
          ]
        }
      ]
    },
    {
      "cell_type": "code",
      "source": [
        "# exercicio 1\n",
        "def borda(s1):\n",
        "  tam = len(s1)\n",
        "  #só imprime caso exista algum caractere\n",
        "# exercicio 1\n",
        "def borda(s1):\n",
        "  tam = len(s1)\n",
        "  #só imprime caso exista algum caractere\n",
        "  if tam:\n",
        "   print('+', '-' * tam,'+')\n",
        "   print('!' + s1 + '!')\n",
        "   print('+' + '-' * tam + '+')\n",
        "\n",
        "\n",
        "\n",
        "  #programa principal\n",
        "borda('olá, mundo!')\n",
        "borda('lógica de programação')"
      ],
      "metadata": {
        "colab": {
          "base_uri": "https://localhost:8080/"
        },
        "id": "wu4o4aYNjXRs",
        "outputId": "48fee6d7-7512-45bc-bda8-9132f21102b8"
      },
      "execution_count": 35,
      "outputs": [
        {
          "output_type": "stream",
          "name": "stdout",
          "text": [
            "+ ----------- +\n",
            "!olá, mundo!!\n",
            "+-----------+\n",
            "+ --------------------- +\n",
            "!lógica de programação!\n",
            "+---------------------+\n"
          ]
        }
      ]
    }
  ]
}